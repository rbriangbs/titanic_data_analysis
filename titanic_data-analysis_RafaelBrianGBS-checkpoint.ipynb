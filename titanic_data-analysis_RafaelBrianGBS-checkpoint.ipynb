{
 "cells": [
  {
   "cell_type": "markdown",
   "metadata": {},
   "source": [
    "# FUNDAMENTOS DE DATA SCIENCE - PROJETO FINAL\n",
    "###      ** ANÁLISE DO TRÁGICO ACIDENTE DO TITANIC OCORRIDO EM 1912**"
   ]
  },
  {
   "cell_type": "markdown",
   "metadata": {},
   "source": [
    "\n",
    "## 1.0 - CONTEXTO HISTÓRICO E ANÁLISE\n",
    "\n",
    "<img src=\"titanicimg.jpg\">\n",
    "\n",
    "Em 15 de abril de 1921 o maior návio com a maior embarcação de passageiros de seu tempo, o RMS Titanic afundou após colidir com um iceberg no Oceano Atlântico, causando milhares de mortes e considerado um dos piores desastres marítimos da história.\n",
    "Nessa análise de dados iremos analisar o conjunto de dados [disponibilizado pelo Kaggle](https://www.kaggle.com/c/titanic/data) junto com sua descrição, onde você poderá visualizar uma descrição do conjunto de dados."
   ]
  },
  {
   "cell_type": "markdown",
   "metadata": {},
   "source": [
    "## 2.0 - VISUALIZANDO DADOS"
   ]
  },
  {
   "cell_type": "code",
   "execution_count": 5,
   "metadata": {},
   "outputs": [
    {
     "data": {
      "text/html": [
       "<div>\n",
       "<style scoped>\n",
       "    .dataframe tbody tr th:only-of-type {\n",
       "        vertical-align: middle;\n",
       "    }\n",
       "\n",
       "    .dataframe tbody tr th {\n",
       "        vertical-align: top;\n",
       "    }\n",
       "\n",
       "    .dataframe thead th {\n",
       "        text-align: right;\n",
       "    }\n",
       "</style>\n",
       "<table border=\"1\" class=\"dataframe\">\n",
       "  <thead>\n",
       "    <tr style=\"text-align: right;\">\n",
       "      <th></th>\n",
       "      <th>PassengerId</th>\n",
       "      <th>Survived</th>\n",
       "      <th>Pclass</th>\n",
       "      <th>Name</th>\n",
       "      <th>Sex</th>\n",
       "      <th>Age</th>\n",
       "      <th>SibSp</th>\n",
       "      <th>Parch</th>\n",
       "      <th>Ticket</th>\n",
       "      <th>Fare</th>\n",
       "      <th>Cabin</th>\n",
       "      <th>Embarked</th>\n",
       "    </tr>\n",
       "  </thead>\n",
       "  <tbody>\n",
       "    <tr>\n",
       "      <th>0</th>\n",
       "      <td>1</td>\n",
       "      <td>0</td>\n",
       "      <td>3</td>\n",
       "      <td>Braund, Mr. Owen Harris</td>\n",
       "      <td>male</td>\n",
       "      <td>22.0</td>\n",
       "      <td>1</td>\n",
       "      <td>0</td>\n",
       "      <td>A/5 21171</td>\n",
       "      <td>7.2500</td>\n",
       "      <td>NaN</td>\n",
       "      <td>S</td>\n",
       "    </tr>\n",
       "    <tr>\n",
       "      <th>1</th>\n",
       "      <td>2</td>\n",
       "      <td>1</td>\n",
       "      <td>1</td>\n",
       "      <td>Cumings, Mrs. John Bradley (Florence Briggs Th...</td>\n",
       "      <td>female</td>\n",
       "      <td>38.0</td>\n",
       "      <td>1</td>\n",
       "      <td>0</td>\n",
       "      <td>PC 17599</td>\n",
       "      <td>71.2833</td>\n",
       "      <td>C85</td>\n",
       "      <td>C</td>\n",
       "    </tr>\n",
       "    <tr>\n",
       "      <th>2</th>\n",
       "      <td>3</td>\n",
       "      <td>1</td>\n",
       "      <td>3</td>\n",
       "      <td>Heikkinen, Miss. Laina</td>\n",
       "      <td>female</td>\n",
       "      <td>26.0</td>\n",
       "      <td>0</td>\n",
       "      <td>0</td>\n",
       "      <td>STON/O2. 3101282</td>\n",
       "      <td>7.9250</td>\n",
       "      <td>NaN</td>\n",
       "      <td>S</td>\n",
       "    </tr>\n",
       "    <tr>\n",
       "      <th>3</th>\n",
       "      <td>4</td>\n",
       "      <td>1</td>\n",
       "      <td>1</td>\n",
       "      <td>Futrelle, Mrs. Jacques Heath (Lily May Peel)</td>\n",
       "      <td>female</td>\n",
       "      <td>35.0</td>\n",
       "      <td>1</td>\n",
       "      <td>0</td>\n",
       "      <td>113803</td>\n",
       "      <td>53.1000</td>\n",
       "      <td>C123</td>\n",
       "      <td>S</td>\n",
       "    </tr>\n",
       "    <tr>\n",
       "      <th>4</th>\n",
       "      <td>5</td>\n",
       "      <td>0</td>\n",
       "      <td>3</td>\n",
       "      <td>Allen, Mr. William Henry</td>\n",
       "      <td>male</td>\n",
       "      <td>35.0</td>\n",
       "      <td>0</td>\n",
       "      <td>0</td>\n",
       "      <td>373450</td>\n",
       "      <td>8.0500</td>\n",
       "      <td>NaN</td>\n",
       "      <td>S</td>\n",
       "    </tr>\n",
       "  </tbody>\n",
       "</table>\n",
       "</div>"
      ],
      "text/plain": [
       "   PassengerId  Survived  Pclass  \\\n",
       "0            1         0       3   \n",
       "1            2         1       1   \n",
       "2            3         1       3   \n",
       "3            4         1       1   \n",
       "4            5         0       3   \n",
       "\n",
       "                                                Name     Sex   Age  SibSp  \\\n",
       "0                            Braund, Mr. Owen Harris    male  22.0      1   \n",
       "1  Cumings, Mrs. John Bradley (Florence Briggs Th...  female  38.0      1   \n",
       "2                             Heikkinen, Miss. Laina  female  26.0      0   \n",
       "3       Futrelle, Mrs. Jacques Heath (Lily May Peel)  female  35.0      1   \n",
       "4                           Allen, Mr. William Henry    male  35.0      0   \n",
       "\n",
       "   Parch            Ticket     Fare Cabin Embarked  \n",
       "0      0         A/5 21171   7.2500   NaN        S  \n",
       "1      0          PC 17599  71.2833   C85        C  \n",
       "2      0  STON/O2. 3101282   7.9250   NaN        S  \n",
       "3      0            113803  53.1000  C123        S  \n",
       "4      0            373450   8.0500   NaN        S  "
      ]
     },
     "execution_count": 5,
     "metadata": {},
     "output_type": "execute_result"
    }
   ],
   "source": [
    "# INICIALIZANDO O MATPLOTLIB\n",
    "%matplotlib inline\n",
    "\n",
    "# IMPORTANDO BIBLIOTECAS PARA A EXECUÇÃO DA ANÁLISE\n",
    "import numpy as np\n",
    "import pandas as pd\n",
    "import matplotlib.pyplot as plt\n",
    "import seaborn as sns\n",
    "\n",
    "# CARREGANDO O CONJUNTO DE DADOS\n",
    "titanic_cdo = pd.read_csv('titanic-data-6.csv')\n",
    "# EXIBINDO AS CINCO PRIMEIRAS LINHAS DE DADOS DO CONJUNTO DE DADOS\n",
    "titanic_cdo.head()"
   ]
  },
  {
   "cell_type": "markdown",
   "metadata": {},
   "source": [
    "## 2.1 - DESCRIÇÃO DOS ATRIBUTOS DO CONJUNTO DE DADOS\n",
    "Diante do conjunto de dados podemos observar vários atributos, tais como: PassengerId, Survived, Pclass, Name, Sex, Age, SibSp, Parch, Ticket, Fare, Cabin, Embarked. Logo, podemos caracterizar com descrições cada um deles."
   ]
  },
  {
   "cell_type": "markdown",
   "metadata": {},
   "source": [
    "<p>**PassengerId**: Identificação do passageiro dentro do conjunto de dados.</p>\n",
    "<p>**Survived**: Resultado da sobrevivência. (Representado por: 0(Não) ou 1(Sim))</p>\n",
    "<p>**Pclass**: Classe sócio-econômica. (Representado por: 1(Classe Alta), 2(Classe Média) ou 3(Classe Baixa))</p>\n",
    "<p>**Name**: Nome do passageiro.</p>\n",
    "<p>**Sex**: Sexo do passageiro.</p>\n",
    "<p>**Age**: Idade do passageiro.</p>\n",
    "<p>**SibSp**: Número de irmãos e cônjuges do passageiro a bordo.</p>\n",
    "<p>**Parch**: Número de pais e filhos do passageiro a bordo.</p>\n",
    "<p>**Ticket**: Número do bilhete do passageiro.</p>\n",
    "<p>**Fare**: Tarifa paga pelo passageiro.</p>\n",
    "<p>**Cabin**: Número da cabine em que o passageiro embarcou.</p>\n",
    "<p>**Embarked**: Porto de embarque do passageiro (Representado por: C(Cherbourg), Q(Queenstown) ou S(Southampton))</p>"
   ]
  },
  {
   "cell_type": "markdown",
   "metadata": {},
   "source": [
    "## 2.2 - LIMPEZA DO CONJUNTO DE DADOS\n",
    "<p>De acordo com a descrição do conjunto de dados com a minha análise, conclui que algumas colunas existentes no conjunto não serão necessárias na minha análise, e para que não sobrecarregue ou qualquer coisa do tipo, tais colunas serão removidas desencadeando também uma melhora no processamento de desempenho.</p> <p>Além do processo de limpeza abordado, sendo eles: </p> \n",
    "<ul>\n",
    "    <li>Identificar e excluir dados duplicados.</li>\n",
    "    <li>Apagar colunas que não serão necessárias para a análise.</li>\n",
    "    <li>Corrigir problema de conversão de dados e a falta deles.</li>\n",
    "</ul>\n",
    "        \n",
    "## 2.2.1 - IDENTIFICAÇÃO E EXCLUSÃO DE DADOS DUPLICADOS"
   ]
  },
  {
   "cell_type": "code",
   "execution_count": 7,
   "metadata": {},
   "outputs": [
    {
     "name": "stdout",
     "output_type": "stream",
     "text": [
      "Há 0 dados duplicados existentes no conjunto de dados.\n"
     ]
    }
   ],
   "source": [
    "tid = titanic_cdo.duplicated()\n",
    "print('Há {} dados duplicados existentes no conjunto de dados.'.format(tid.sum()))"
   ]
  },
  {
   "cell_type": "markdown",
   "metadata": {},
   "source": [
    "## 2.2.2 - APAGANDO COLUNAS"
   ]
  },
  {
   "cell_type": "code",
   "execution_count": 8,
   "metadata": {},
   "outputs": [
    {
     "data": {
      "text/html": [
       "<div>\n",
       "<style scoped>\n",
       "    .dataframe tbody tr th:only-of-type {\n",
       "        vertical-align: middle;\n",
       "    }\n",
       "\n",
       "    .dataframe tbody tr th {\n",
       "        vertical-align: top;\n",
       "    }\n",
       "\n",
       "    .dataframe thead th {\n",
       "        text-align: right;\n",
       "    }\n",
       "</style>\n",
       "<table border=\"1\" class=\"dataframe\">\n",
       "  <thead>\n",
       "    <tr style=\"text-align: right;\">\n",
       "      <th></th>\n",
       "      <th>Survived</th>\n",
       "      <th>Pclass</th>\n",
       "      <th>Sex</th>\n",
       "      <th>Age</th>\n",
       "      <th>SibSp</th>\n",
       "      <th>Parch</th>\n",
       "    </tr>\n",
       "  </thead>\n",
       "  <tbody>\n",
       "    <tr>\n",
       "      <th>0</th>\n",
       "      <td>0</td>\n",
       "      <td>3</td>\n",
       "      <td>male</td>\n",
       "      <td>22.0</td>\n",
       "      <td>1</td>\n",
       "      <td>0</td>\n",
       "    </tr>\n",
       "    <tr>\n",
       "      <th>1</th>\n",
       "      <td>1</td>\n",
       "      <td>1</td>\n",
       "      <td>female</td>\n",
       "      <td>38.0</td>\n",
       "      <td>1</td>\n",
       "      <td>0</td>\n",
       "    </tr>\n",
       "    <tr>\n",
       "      <th>2</th>\n",
       "      <td>1</td>\n",
       "      <td>3</td>\n",
       "      <td>female</td>\n",
       "      <td>26.0</td>\n",
       "      <td>0</td>\n",
       "      <td>0</td>\n",
       "    </tr>\n",
       "    <tr>\n",
       "      <th>3</th>\n",
       "      <td>1</td>\n",
       "      <td>1</td>\n",
       "      <td>female</td>\n",
       "      <td>35.0</td>\n",
       "      <td>1</td>\n",
       "      <td>0</td>\n",
       "    </tr>\n",
       "    <tr>\n",
       "      <th>4</th>\n",
       "      <td>0</td>\n",
       "      <td>3</td>\n",
       "      <td>male</td>\n",
       "      <td>35.0</td>\n",
       "      <td>0</td>\n",
       "      <td>0</td>\n",
       "    </tr>\n",
       "  </tbody>\n",
       "</table>\n",
       "</div>"
      ],
      "text/plain": [
       "   Survived  Pclass     Sex   Age  SibSp  Parch\n",
       "0         0       3    male  22.0      1      0\n",
       "1         1       1  female  38.0      1      0\n",
       "2         1       3  female  26.0      0      0\n",
       "3         1       1  female  35.0      1      0\n",
       "4         0       3    male  35.0      0      0"
      ]
     },
     "execution_count": 8,
     "metadata": {},
     "output_type": "execute_result"
    }
   ],
   "source": [
    "titanic_cdn = titanic_cdo.drop(['PassengerId', 'Name', 'Ticket', 'Fare', 'Embarked', 'Cabin'], axis=1)\n",
    "titanic_cdn.head()"
   ]
  },
  {
   "cell_type": "markdown",
   "metadata": {},
   "source": [
    "## 2.2.3 - CORRIGINDO PROBLEMAS DE CONVERSÃO DE DADOS E A FALTA DE DADOS"
   ]
  },
  {
   "cell_type": "code",
   "execution_count": 9,
   "metadata": {},
   "outputs": [
    {
     "data": {
      "text/plain": [
       "Survived      0\n",
       "Pclass        0\n",
       "Sex           0\n",
       "Age         177\n",
       "SibSp         0\n",
       "Parch         0\n",
       "dtype: int64"
      ]
     },
     "execution_count": 9,
     "metadata": {},
     "output_type": "execute_result"
    }
   ],
   "source": [
    "# VERIFICANDO DADOS NULOS\n",
    "titanic_cdn.isnull().sum()"
   ]
  },
  {
   "cell_type": "markdown",
   "metadata": {},
   "source": [
    "É possível notar que há 177 dados nulos na coluna **Age**."
   ]
  },
  {
   "cell_type": "code",
   "execution_count": 10,
   "metadata": {},
   "outputs": [],
   "source": [
    "# PREENCHENDO DADOS NULOS\n",
    "titanic_cdn.Age.fillna(titanic_cdn.Age.mean(),inplace=True)"
   ]
  },
  {
   "cell_type": "markdown",
   "metadata": {},
   "source": [
    "\n",
    "## 3.0.0 - QUESTIONAMENTOS\n",
    "## 3.1.0 - Há uma quantidade maior de sobreviventes do gênero masculino ou feminino?\n",
    "### 3.1.1 - Gráfico de comparação."
   ]
  },
  {
   "cell_type": "code",
   "execution_count": 11,
   "metadata": {},
   "outputs": [
    {
     "data": {
      "text/plain": [
       "<matplotlib.axes._subplots.AxesSubplot at 0x1c36ef05630>"
      ]
     },
     "execution_count": 11,
     "metadata": {},
     "output_type": "execute_result"
    },
    {
     "data": {
      "image/png": "[encoded data removed]",
      "text/plain": [
       "<Figure size 432x288 with 1 Axes>"
      ]
     },
     "metadata": {},
     "output_type": "display_data"
    }
   ],
   "source": [
    "titanic_cdn['Not Survived'] = titanic_cdn['Survived'].map({0:1,1:0}).copy()\n",
    "titanic_cdn.query('Survived==1')['Sex'].value_counts().plot(kind='bar', title='Gráfico de Quantidade de Sobreviventes por Gênero', fontsize=13, color=('tab:red', 'tab:blue'))"
   ]
  },
  {
   "cell_type": "markdown",
   "metadata": {},
   "source": [
    "### 3.2.0 -  O maior número de sobreviventes foram crianças/adolescentes ou adultos?"
   ]
  },
  {
   "cell_type": "code",
   "execution_count": 12,
   "metadata": {},
   "outputs": [
    {
     "name": "stdout",
     "output_type": "stream",
     "text": [
      "Survived                 1\n",
      "rAge                      \n",
      "Crianças/Adolescentes   61\n",
      "Adultos                281\n"
     ]
    },
    {
     "data": {
      "text/plain": [
       "Text(0,0.5,'Quantidade')"
      ]
     },
     "execution_count": 12,
     "metadata": {},
     "output_type": "execute_result"
    },
    {
     "data": {
      "image/png": "[encoded data removed]",
      "text/plain": [
       "<Figure size 720x360 with 1 Axes>"
      ]
     },
     "metadata": {},
     "output_type": "display_data"
    }
   ],
   "source": [
    "%matplotlib inline\n",
    "\n",
    "# ADICIONANDO O RANGE DA FAIXA DE IDADE\n",
    "ranges=[0,17,80]\n",
    "range_labels=['Crianças/Adolescentes','Adultos']\n",
    "titanic_cdn['rAge']=pd.cut(titanic_cdn['Age'],ranges,labels=range_labels)\n",
    "\n",
    "# EXIBINDO A QUANTIDADE DE CRIANÇAS/ADOLESCENTES E ADULTOS QUE EMBARCARAM NO RMS TITANIC\n",
    "titanic_cdn.groupby('rAge').Survived.count()\n",
    "\n",
    "# EXTRAINDO DADOS E EXIBINDO A QUANTIDADE DE SOBREVIVENTES ENTRE CRIANÇAS/ADOLESCENTES E ADULTOS\n",
    "titanic_bage = titanic_cdn.query('Survived==1').groupby(['rAge', 'Survived'],as_index=False).size().unstack()\n",
    "print(titanic_bage)\n",
    "\n",
    "# EXIBINDO O GRÁFICO\n",
    "titanic_bage.plot.barh(figsize=(10,5))\n",
    "plt.title('Sobreviventes por idade',fontsize=20)\n",
    "plt.xlabel('Idade',fontsize=15)\n",
    "plt.ylabel('Quantidade',fontsize=15)"
   ]
  },
  {
   "cell_type": "markdown",
   "metadata": {},
   "source": [
    "### 3.3.0 - Qual é a porcentagem de sobreviventes em comparação aos tripulantes a bordo durante a viagem?"
   ]
  },
  {
   "cell_type": "code",
   "execution_count": 13,
   "metadata": {},
   "outputs": [
    {
     "data": {
      "text/plain": [
       "Text(0,0.5,'')"
      ]
     },
     "execution_count": 13,
     "metadata": {},
     "output_type": "execute_result"
    },
    {
     "data": {
      "image/png": "[encoded data removed]",
      "text/plain": [
       "<Figure size 360x360 with 1 Axes>"
      ]
     },
     "metadata": {},
     "output_type": "display_data"
    }
   ],
   "source": [
    "titanic_cdn['Not Survived'] = titanic_cdn['Survived'].map({0:1,1:0}).copy()\n",
    "titanic_cdn['Survived'].value_counts().plot.pie(colors=('tab:red', 'tab:blue'), title='Qual a porcentagem dos tripulantes que sobreviveram?', fontsize=15, autopct='%1.1f%%', shadow=True, startangle=90, labels=('Não sobreviventes','Sobreviventes'), figsize=(5,5)).set_ylabel('')"
   ]
  },
  {
   "cell_type": "markdown",
   "metadata": {},
   "source": [
    "## 4.0.0 - CONCLUSÃO\n",
    "<p>Podemos concluir com essa análise é que levando em consideração que os dados não estejam 100% preenchidos, com a falta de dados a eficiência da precisão da análise pode não ser 100% também, devido a qualidade do conjunto de dados da Tragédia do RMS Titanic.</p>\n",
    "<p>Além disso, podemos concluir com a análise realizada de que teve uma taxa de sobrevivência de adultos maior do que de crianças e adolescentes, o que nos evidencia de que não ocorreu uma certa prioridade para a sobrevivência de crianças e adolescentes que estavam a bordo. E, também pode-se presumir a possibilidade da prioridade para deixar sobreviver através dos botes lançados em razão do gênero feminino visto que é o que tem maior porcentagem de sobreviventes (visto que a quantidade foi maior) comparado ao gênero masculino.</p>\n",
    "<p>Visto que na hora do desespero dos tripulantes não teria tanta preocupação em mente para a priorização de indivíduos por classe, não foi realizado uma análise sobre o mesmo levando em conta o resultado das análises realizadas que levaria a uma grande chance do possível fato ter ocorrido.</p>\n",
    "<p>E de acordo com a porcentagem da análise realizada, o famoso RMS Titanic não foi planejado com uma grande quantidade de botes suficiente para satisfazer a todos os tripulantes, o que pode nos dizer que o návio estava totalmente despreparado para uma situação como essa que aconteceu, o que foi uma grande tragédia e perda para todos.</p>"
   ]
  }
 ],
 "metadata": {
  "kernelspec": {
   "display_name": "Python 3",
   "language": "python",
   "name": "python3"
  },
  "language_info": {
   "codemirror_mode": {
    "name": "ipython",
    "version": 3
   },
   "file_extension": ".py",
   "mimetype": "text/x-python",
   "name": "python",
   "nbconvert_exporter": "python",
   "pygments_lexer": "ipython3",
   "version": "3.6.6"
  }
 },
 "nbformat": 4,
 "nbformat_minor": 2
}
